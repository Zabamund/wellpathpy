{
 "cells": [
  {
   "cell_type": "markdown",
   "metadata": {},
   "source": [
    "# API model - OOP\n",
    "\n",
    "This model supposes that we have a wellbore object."
   ]
  },
  {
   "cell_type": "code",
   "execution_count": null,
   "metadata": {},
   "outputs": [],
   "source": [
    "import numpy as np\n",
    "import pandas as pd\n",
    "from wellpathpy import Wellbore\n",
    "from wellpathpy import interpolate_deviation, interpolate_position # rename these ?"
   ]
  },
  {
   "cell_type": "code",
   "execution_count": null,
   "metadata": {},
   "outputs": [],
   "source": [
    "# instatiate a Wellbore object\n",
    "wb = Wellbore()"
   ]
  },
  {
   "cell_type": "code",
   "execution_count": null,
   "metadata": {},
   "outputs": [],
   "source": [
    "# create a header dictionnary\n",
    "# I'm adding surface norhting and easting\n",
    "header_dict = wb.get_header(datum='kb', units='m', elevation=0., surface_northing=0., surface_easting=0.)"
   ]
  },
  {
   "cell_type": "code",
   "execution_count": null,
   "metadata": {},
   "outputs": [],
   "source": [
    "# set the Wellbore header attribute to header dictionnary\n",
    "wb.header = header_dict"
   ]
  },
  {
   "cell_type": "code",
   "execution_count": null,
   "metadata": {},
   "outputs": [],
   "source": [
    "# load a well deviation in md, inc, azi\n",
    "wb = wb.load_path(md,inc,azi)"
   ]
  },
  {
   "cell_type": "code",
   "execution_count": null,
   "metadata": {},
   "outputs": [],
   "source": [
    "# once the deviation is loaded, choose method to ouput deviation and positional DataFrame\n",
    "# the deviation is returned as an offset log, this is what we currently return without the location() function\n",
    "# the positional log is returned thanks to the header attribute and location() function\n",
    "# if no header information is passed in `wb.get_header()`, default values are used\n",
    "wb.mincurve(header_dict)\n",
    ">>> pd.DataFrame({'md': np.array(md),\n",
    "               'inc': np.array(inc),\n",
    "               'azi': np.array(azi),\n",
    "               'tvd': np.array(tvd),\n",
    "               'east_offset': np.array(east_offset),\n",
    "               'north_offset': np.array(north_offset),\n",
    "               'tvdss': np.array(tvdss),\n",
    "               'mE': np.array(mE),\n",
    "               'mN': np.array(mN),\n",
    "              })\n",
    "\n",
    "wb.radcurve(header_dict)\n",
    ">>> pd.DataFrame({'md': np.array(md),\n",
    "               'inc': np.array(inc),\n",
    "               'azi': np.array(azi),\n",
    "               'tvd': np.array(tvd),\n",
    "               'east_offset': np.array(east_offset),\n",
    "               'north_offset': np.array(north_offset),\n",
    "               'tvdss': np.array(tvdss),\n",
    "               'mE': np.array(mE),\n",
    "               'mN': np.array(mN),\n",
    "              })\n",
    "\n",
    "wb.baltan(header_dict)\n",
    ">>> pd.DataFrame({'md': np.array(md),\n",
    "             'inc': np.array(inc),\n",
    "             'azi': np.array(azi),\n",
    "             'tvd': np.array(tvd),\n",
    "             'east_offset': np.array(east_offset),\n",
    "             'north_offset': np.array(north_offset),\n",
    "             'tvdss': np.array(tvdss),\n",
    "             'mE': np.array(mE),\n",
    "             'mN': np.array(mN),\n",
    "             })\n",
    "\n",
    "wb.hightan(header_dict)\n",
    ">>> pd.DataFrame({'md': np.array(md),\n",
    "             'inc': np.array(inc),\n",
    "             'azi': np.array(azi),\n",
    "             'tvd': np.array(tvd),\n",
    "             'east_offset': np.array(east_offset),\n",
    "             'north_offset': np.array(north_offset),\n",
    "             'tvdss': np.array(tvdss),\n",
    "             'mE': np.array(mE),\n",
    "             'mN': np.array(mN),\n",
    "             })\n",
    "\n",
    "wb.lowtan(header_dict)\n",
    ">>> pd.DataFrame({'md': np.array(md),\n",
    "             'inc': np.array(inc),\n",
    "             'azi': np.array(azi),\n",
    "             'tvd': np.array(tvd),\n",
    "             'east_offset': np.array(east_offset),\n",
    "             'north_offset': np.array(north_offset),\n",
    "             'tvdss': np.array(tvdss),\n",
    "             'mE': np.array(mE),\n",
    "             'mN': np.array(mN),\n",
    "             })\n",
    "\n",
    "wb.avgtan(header_dict)\n",
    ">>> pd.DataFrame({'md': np.array(md),\n",
    "             'inc': np.array(inc),\n",
    "             'azi': np.array(azi),\n",
    "             'tvd': np.array(tvd),\n",
    "             'east_offset': np.array(east_offset),\n",
    "             'north_offset': np.array(north_offset),\n",
    "             'tvdss': np.array(tvdss),\n",
    "             'mE': np.array(mE),\n",
    "             'mN': np.array(mN),\n",
    "             })"
   ]
  },
  {
   "cell_type": "code",
   "execution_count": null,
   "metadata": {},
   "outputs": [],
   "source": [
    "# resample well deviation in md to given step\n",
    "wb.resample_md(md_step=1)\n",
    ">>> interpolate_deviation(md, inc, azi, md_step=1)\n",
    ">>> pd.DataFrame({'md': np.array(md), 'inc': np.array(inc), 'azi': np.array(azi)})"
   ]
  },
  {
   "cell_type": "code",
   "execution_count": null,
   "metadata": {},
   "outputs": [],
   "source": [
    "# resample section of well positional log in tvd to given step\n",
    "section_max = int\n",
    "wb.resample_tvd(tvd_start=0., tvd_stop=np.array(tvd[section_max]), tvd_step=1)\n",
    "# previous line seems wrong. I want to pass a slice of the positional log to wb.resample_tvd\n",
    ">>> interpolate_position(tvd, easting, northing, tvd_step=1)\n",
    ">>> pd.DataFrame({'tvd': np.array(tvd), 'easting': np.array(easting), 'northing': np.array(northing)})"
   ]
  },
  {
   "cell_type": "code",
   "execution_count": null,
   "metadata": {},
   "outputs": [],
   "source": []
  }
 ],
 "metadata": {
  "kernelspec": {
   "display_name": "wellpath",
   "language": "python",
   "name": "wellpath"
  },
  "language_info": {
   "codemirror_mode": {
    "name": "ipython",
    "version": 3
   },
   "file_extension": ".py",
   "mimetype": "text/x-python",
   "name": "python",
   "nbconvert_exporter": "python",
   "pygments_lexer": "ipython3",
   "version": "3.7.3"
  }
 },
 "nbformat": 4,
 "nbformat_minor": 2
}
